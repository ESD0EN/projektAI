{
 "cells": [
  {
   "cell_type": "code",
   "execution_count": 1,
   "id": "e0a74d47",
   "metadata": {},
   "outputs": [],
   "source": [
    "import tensorflow as tf\n",
    "from tensorflow.keras.preprocessing.image import ImageDataGenerator"
   ]
  },
  {
   "cell_type": "markdown",
   "id": "3922a9a8",
   "metadata": {},
   "source": [
    "ŚCIEŻKI DO PLIKÓW"
   ]
  },
  {
   "cell_type": "code",
   "execution_count": 2,
   "id": "7b9e2b76",
   "metadata": {},
   "outputs": [],
   "source": [
    "train_dir = 'input/train/'\n",
    "val_dir = 'input/val/'"
   ]
  },
  {
   "cell_type": "markdown",
   "id": "1e7d6429",
   "metadata": {},
   "source": [
    "TWORZENIE GENERATORÓW"
   ]
  },
  {
   "cell_type": "code",
   "execution_count": 3,
   "id": "aa3da459",
   "metadata": {},
   "outputs": [],
   "source": [
    "train_datagen = ImageDataGenerator(rescale=1./255)\n",
    "val_datagen = ImageDataGenerator(rescale=1./255)"
   ]
  },
  {
   "cell_type": "code",
   "execution_count": 4,
   "id": "8234ba23",
   "metadata": {},
   "outputs": [
    {
     "name": "stdout",
     "output_type": "stream",
     "text": [
      "Found 14630 images belonging to 3 classes.\n",
      "Found 1500 images belonging to 3 classes.\n"
     ]
    }
   ],
   "source": [
    "train_generator = train_datagen.flow_from_directory(\n",
    "    train_dir,\n",
    "    target_size=(224, 224),\n",
    "    batch_size=32,\n",
    "    class_mode='categorical'\n",
    ")\n",
    "\n",
    "val_generator = val_datagen.flow_from_directory(\n",
    "    val_dir,\n",
    "    target_size=(224, 224),\n",
    "    batch_size=32,\n",
    "    class_mode='categorical'\n",
    ")\n"
   ]
  },
  {
   "cell_type": "markdown",
   "id": "3e90d483",
   "metadata": {},
   "source": [
    "TWORZENIE MODELU"
   ]
  },
  {
   "cell_type": "code",
   "execution_count": 5,
   "id": "7920f5ca",
   "metadata": {},
   "outputs": [],
   "source": [
    "model = tf.keras.models.Sequential([\n",
    "    tf.keras.layers.Conv2D(32, (3, 3), activation='relu', input_shape=(224, 224, 3)),\n",
    "    tf.keras.layers.MaxPooling2D((2, 2)),\n",
    "    tf.keras.layers.Conv2D(64, (3, 3), activation='relu'),\n",
    "    tf.keras.layers.MaxPooling2D((2, 2)),\n",
    "    tf.keras.layers.Conv2D(128, (3, 3), activation='relu'),\n",
    "    tf.keras.layers.MaxPooling2D((2, 2)),\n",
    "    tf.keras.layers.Flatten(),\n",
    "    tf.keras.layers.Dense(64, activation='relu'),\n",
    "    tf.keras.layers.Dense(3, activation='softmax')\n",
    "])"
   ]
  },
  {
   "cell_type": "markdown",
   "id": "ef032370",
   "metadata": {},
   "source": [
    "KOMPILACJA MODELU"
   ]
  },
  {
   "cell_type": "code",
   "execution_count": 6,
   "id": "79b9a1b8",
   "metadata": {},
   "outputs": [],
   "source": [
    "model.compile(\n",
    "    optimizer='adam',\n",
    "    loss='categorical_crossentropy',\n",
    "    metrics=['accuracy']\n",
    ")"
   ]
  },
  {
   "cell_type": "markdown",
   "id": "fa2d49e6",
   "metadata": {},
   "source": [
    "TRENOWANIE MODELU"
   ]
  },
  {
   "cell_type": "code",
   "execution_count": 7,
   "id": "74719b5b",
   "metadata": {},
   "outputs": [
    {
     "name": "stdout",
     "output_type": "stream",
     "text": [
      "Epoch 1/10\n",
      "458/458 [==============================] - 218s 474ms/step - loss: 0.4067 - accuracy: 0.8403 - val_loss: 0.1829 - val_accuracy: 0.9367\n",
      "Epoch 2/10\n",
      "458/458 [==============================] - 217s 475ms/step - loss: 0.1236 - accuracy: 0.9569 - val_loss: 0.1482 - val_accuracy: 0.9413\n",
      "Epoch 3/10\n",
      "458/458 [==============================] - 218s 476ms/step - loss: 0.0811 - accuracy: 0.9714 - val_loss: 0.1441 - val_accuracy: 0.9540\n",
      "Epoch 4/10\n",
      "458/458 [==============================] - 216s 470ms/step - loss: 0.0436 - accuracy: 0.9841 - val_loss: 0.1169 - val_accuracy: 0.9673\n",
      "Epoch 5/10\n",
      "458/458 [==============================] - 215s 468ms/step - loss: 0.0297 - accuracy: 0.9893 - val_loss: 0.1548 - val_accuracy: 0.9607\n",
      "Epoch 6/10\n",
      "458/458 [==============================] - 216s 471ms/step - loss: 0.0304 - accuracy: 0.9896 - val_loss: 0.2142 - val_accuracy: 0.9293\n",
      "Epoch 7/10\n",
      "458/458 [==============================] - 214s 467ms/step - loss: 0.0247 - accuracy: 0.9908 - val_loss: 0.1384 - val_accuracy: 0.9607\n",
      "Epoch 8/10\n",
      "458/458 [==============================] - 215s 469ms/step - loss: 0.0299 - accuracy: 0.9905 - val_loss: 0.1421 - val_accuracy: 0.9633\n",
      "Epoch 9/10\n",
      "458/458 [==============================] - 216s 471ms/step - loss: 0.0141 - accuracy: 0.9952 - val_loss: 0.2085 - val_accuracy: 0.9400\n",
      "Epoch 10/10\n",
      "458/458 [==============================] - 215s 468ms/step - loss: 0.0107 - accuracy: 0.9965 - val_loss: 0.2328 - val_accuracy: 0.9487\n"
     ]
    }
   ],
   "source": [
    "history = model.fit(\n",
    "    train_generator,\n",
    "    epochs=10,\n",
    "    validation_data=val_generator\n",
    ")"
   ]
  },
  {
   "cell_type": "markdown",
   "id": "d2278217",
   "metadata": {},
   "source": [
    "ZAPISYWANIE MODELU ŻEBY MÓC Z NIEGO KORZYSTAĆ PÓŹNIEJ"
   ]
  },
  {
   "cell_type": "code",
   "execution_count": 9,
   "id": "7f09798b",
   "metadata": {},
   "outputs": [],
   "source": [
    "model.save('model.h5')"
   ]
  }
 ],
 "metadata": {
  "kernelspec": {
   "display_name": "Python 3 (ipykernel)",
   "language": "python",
   "name": "python3"
  },
  "language_info": {
   "codemirror_mode": {
    "name": "ipython",
    "version": 3
   },
   "file_extension": ".py",
   "mimetype": "text/x-python",
   "name": "python",
   "nbconvert_exporter": "python",
   "pygments_lexer": "ipython3",
   "version": "3.10.11"
  }
 },
 "nbformat": 4,
 "nbformat_minor": 5
}
