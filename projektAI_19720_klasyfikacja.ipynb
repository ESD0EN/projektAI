{
 "cells": [
  {
   "cell_type": "code",
   "execution_count": 1,
   "id": "3930a226",
   "metadata": {},
   "outputs": [],
   "source": [
    "import numpy as np\n",
    "from tensorflow.keras.models import load_model\n",
    "from tensorflow.keras.preprocessing import image"
   ]
  },
  {
   "cell_type": "markdown",
   "id": "0d301c4a",
   "metadata": {},
   "source": [
    "ŁADOWANIE MODELU"
   ]
  },
  {
   "cell_type": "code",
   "execution_count": 2,
   "id": "5bf7799f",
   "metadata": {},
   "outputs": [],
   "source": [
    "model = load_model('model.h5')"
   ]
  },
  {
   "cell_type": "markdown",
   "id": "b832d6ca",
   "metadata": {},
   "source": [
    "ŁADOWANIE OBRAZKA DO SPRAWDZENIA"
   ]
  },
  {
   "cell_type": "code",
   "execution_count": 3,
   "id": "6a30327f",
   "metadata": {},
   "outputs": [],
   "source": [
    "img_path = 'input/test/test1.jpg' \n",
    "img = image.load_img(img_path, target_size=(224, 224))\n",
    "img_arr = image.img_to_array(img)\n",
    "img_arr = np.expand_dims(img_arr, axis=0)"
   ]
  },
  {
   "cell_type": "markdown",
   "id": "b91b75e7",
   "metadata": {},
   "source": [
    "KLASYFIKACJA"
   ]
  },
  {
   "cell_type": "code",
   "execution_count": 4,
   "id": "2c8b86ed",
   "metadata": {},
   "outputs": [
    {
     "name": "stdout",
     "output_type": "stream",
     "text": [
      "1/1 [==============================] - 0s 103ms/step\n"
     ]
    }
   ],
   "source": [
    "prediction = model.predict(img_arr)\n",
    "classes = ['kot', 'pies', 'dzikie']\n",
    "predicted_class = classes[np.argmax(prediction)]\n",
    "probs = prediction[0] #przechowywanie prawdopodbieństwa dla każdej klasy\n",
    "percentages = [round(prob * 100, 2) for prob in probs] #przeliczanie na procenty"
   ]
  },
  {
   "cell_type": "markdown",
   "id": "a008c86c",
   "metadata": {},
   "source": [
    "PREDYKCJA I PRAWDOPOBIEŃSTWO"
   ]
  },
  {
   "cell_type": "code",
   "execution_count": 5,
   "id": "ceb3e4ce",
   "metadata": {},
   "outputs": [
    {
     "name": "stdout",
     "output_type": "stream",
     "text": [
      "Zwierze należy do klasy: kot\n",
      "Prawdopodobieństwo dla każdej klasy wynosi: [100.0, 0.0, 0.0]%\n"
     ]
    }
   ],
   "source": [
    "print(f'Zwierze należy do klasy: {predicted_class}')\n",
    "print(f'Prawdopodobieństwo dla każdej klasy wynosi: {percentages}%')"
   ]
  }
 ],
 "metadata": {
  "kernelspec": {
   "display_name": "Python 3 (ipykernel)",
   "language": "python",
   "name": "python3"
  },
  "language_info": {
   "codemirror_mode": {
    "name": "ipython",
    "version": 3
   },
   "file_extension": ".py",
   "mimetype": "text/x-python",
   "name": "python",
   "nbconvert_exporter": "python",
   "pygments_lexer": "ipython3",
   "version": "3.10.11"
  }
 },
 "nbformat": 4,
 "nbformat_minor": 5
}
